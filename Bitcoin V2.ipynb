{
 "cells": [
  {
   "cell_type": "code",
   "execution_count": 1,
   "metadata": {},
   "outputs": [],
   "source": [
    "import numpy as np\n",
    "import matplotlib.pyplot as plt\n",
    "import pandas as pd\n",
    "\n",
    "import seaborn as sns\n",
    "sns.set() \n",
    "\n",
    "import warnings\n",
    "warnings.filterwarnings('ignore')"
   ]
  },
  {
   "cell_type": "code",
   "execution_count": 2,
   "metadata": {},
   "outputs": [
    {
     "data": {
      "text/html": [
       "<div>\n",
       "<style scoped>\n",
       "    .dataframe tbody tr th:only-of-type {\n",
       "        vertical-align: middle;\n",
       "    }\n",
       "\n",
       "    .dataframe tbody tr th {\n",
       "        vertical-align: top;\n",
       "    }\n",
       "\n",
       "    .dataframe thead th {\n",
       "        text-align: right;\n",
       "    }\n",
       "</style>\n",
       "<table border=\"1\" class=\"dataframe\">\n",
       "  <thead>\n",
       "    <tr style=\"text-align: right;\">\n",
       "      <th></th>\n",
       "      <th>Unnamed: 0</th>\n",
       "      <th>date</th>\n",
       "      <th>confirmation_time</th>\n",
       "      <th>difficulty</th>\n",
       "      <th>hash_rate</th>\n",
       "      <th>market_cap</th>\n",
       "      <th>price_usd</th>\n",
       "      <th>total_block_size</th>\n",
       "      <th>total_miner_revenue</th>\n",
       "      <th>total_supply</th>\n",
       "      <th>total_trx_fees</th>\n",
       "      <th>trade_volume</th>\n",
       "      <th>transactions</th>\n",
       "      <th>trx_cost_percent</th>\n",
       "      <th>trx_per_block</th>\n",
       "      <th>trx_volume</th>\n",
       "      <th>unique_addresses</th>\n",
       "      <th>daily_return</th>\n",
       "    </tr>\n",
       "  </thead>\n",
       "  <tbody>\n",
       "    <tr>\n",
       "      <th>0</th>\n",
       "      <td>0</td>\n",
       "      <td>2015-01-01</td>\n",
       "      <td>7.150000</td>\n",
       "      <td>4.064096e+10</td>\n",
       "      <td>335365.2901</td>\n",
       "      <td>4.317111e+09</td>\n",
       "      <td>315.70</td>\n",
       "      <td>27835.0</td>\n",
       "      <td>1312680.60</td>\n",
       "      <td>13674725.0</td>\n",
       "      <td>8.003076</td>\n",
       "      <td>5.553875e+06</td>\n",
       "      <td>58963</td>\n",
       "      <td>5.244721</td>\n",
       "      <td>555.0</td>\n",
       "      <td>79280.0</td>\n",
       "      <td>116012</td>\n",
       "      <td>0</td>\n",
       "    </tr>\n",
       "    <tr>\n",
       "      <th>1</th>\n",
       "      <td>1</td>\n",
       "      <td>2015-01-02</td>\n",
       "      <td>6.933333</td>\n",
       "      <td>4.064096e+10</td>\n",
       "      <td>323243.6531</td>\n",
       "      <td>4.324529e+09</td>\n",
       "      <td>316.15</td>\n",
       "      <td>27875.0</td>\n",
       "      <td>1267761.50</td>\n",
       "      <td>13678725.0</td>\n",
       "      <td>10.727695</td>\n",
       "      <td>6.440896e+06</td>\n",
       "      <td>72234</td>\n",
       "      <td>4.477312</td>\n",
       "      <td>627.0</td>\n",
       "      <td>89563.0</td>\n",
       "      <td>168563</td>\n",
       "      <td>0</td>\n",
       "    </tr>\n",
       "    <tr>\n",
       "      <th>2</th>\n",
       "      <td>2</td>\n",
       "      <td>2015-01-03</td>\n",
       "      <td>6.433333</td>\n",
       "      <td>4.064096e+10</td>\n",
       "      <td>331324.7444</td>\n",
       "      <td>4.136728e+09</td>\n",
       "      <td>302.33</td>\n",
       "      <td>27922.0</td>\n",
       "      <td>1242878.63</td>\n",
       "      <td>13682825.0</td>\n",
       "      <td>11.906088</td>\n",
       "      <td>2.938312e+07</td>\n",
       "      <td>82832</td>\n",
       "      <td>2.277049</td>\n",
       "      <td>734.0</td>\n",
       "      <td>180541.0</td>\n",
       "      <td>207571</td>\n",
       "      <td>0</td>\n",
       "    </tr>\n",
       "    <tr>\n",
       "      <th>3</th>\n",
       "      <td>3</td>\n",
       "      <td>2015-01-04</td>\n",
       "      <td>8.033333</td>\n",
       "      <td>4.064096e+10</td>\n",
       "      <td>335365.2901</td>\n",
       "      <td>3.708212e+09</td>\n",
       "      <td>270.93</td>\n",
       "      <td>27971.0</td>\n",
       "      <td>1129778.10</td>\n",
       "      <td>13686975.0</td>\n",
       "      <td>20.288107</td>\n",
       "      <td>5.310479e+07</td>\n",
       "      <td>85570</td>\n",
       "      <td>1.376066</td>\n",
       "      <td>692.0</td>\n",
       "      <td>303038.0</td>\n",
       "      <td>206228</td>\n",
       "      <td>0</td>\n",
       "    </tr>\n",
       "    <tr>\n",
       "      <th>4</th>\n",
       "      <td>4</td>\n",
       "      <td>2015-01-05</td>\n",
       "      <td>6.816667</td>\n",
       "      <td>4.064096e+10</td>\n",
       "      <td>339405.8358</td>\n",
       "      <td>3.789717e+09</td>\n",
       "      <td>276.80</td>\n",
       "      <td>28024.0</td>\n",
       "      <td>1166988.80</td>\n",
       "      <td>13691175.0</td>\n",
       "      <td>16.967084</td>\n",
       "      <td>3.132672e+07</td>\n",
       "      <td>93753</td>\n",
       "      <td>1.863192</td>\n",
       "      <td>751.0</td>\n",
       "      <td>226278.0</td>\n",
       "      <td>193982</td>\n",
       "      <td>1</td>\n",
       "    </tr>\n",
       "  </tbody>\n",
       "</table>\n",
       "</div>"
      ],
      "text/plain": [
       "   Unnamed: 0        date  confirmation_time    difficulty    hash_rate  \\\n",
       "0           0  2015-01-01           7.150000  4.064096e+10  335365.2901   \n",
       "1           1  2015-01-02           6.933333  4.064096e+10  323243.6531   \n",
       "2           2  2015-01-03           6.433333  4.064096e+10  331324.7444   \n",
       "3           3  2015-01-04           8.033333  4.064096e+10  335365.2901   \n",
       "4           4  2015-01-05           6.816667  4.064096e+10  339405.8358   \n",
       "\n",
       "     market_cap  price_usd  total_block_size  total_miner_revenue  \\\n",
       "0  4.317111e+09     315.70           27835.0           1312680.60   \n",
       "1  4.324529e+09     316.15           27875.0           1267761.50   \n",
       "2  4.136728e+09     302.33           27922.0           1242878.63   \n",
       "3  3.708212e+09     270.93           27971.0           1129778.10   \n",
       "4  3.789717e+09     276.80           28024.0           1166988.80   \n",
       "\n",
       "   total_supply  total_trx_fees  trade_volume  transactions  trx_cost_percent  \\\n",
       "0    13674725.0        8.003076  5.553875e+06         58963          5.244721   \n",
       "1    13678725.0       10.727695  6.440896e+06         72234          4.477312   \n",
       "2    13682825.0       11.906088  2.938312e+07         82832          2.277049   \n",
       "3    13686975.0       20.288107  5.310479e+07         85570          1.376066   \n",
       "4    13691175.0       16.967084  3.132672e+07         93753          1.863192   \n",
       "\n",
       "   trx_per_block  trx_volume  unique_addresses  daily_return  \n",
       "0          555.0     79280.0            116012             0  \n",
       "1          627.0     89563.0            168563             0  \n",
       "2          734.0    180541.0            207571             0  \n",
       "3          692.0    303038.0            206228             0  \n",
       "4          751.0    226278.0            193982             1  "
      ]
     },
     "execution_count": 2,
     "metadata": {},
     "output_type": "execute_result"
    }
   ],
   "source": [
    "bitcoin_v2 = pd.read_csv(\"bitcoin_v2.csv\")\n",
    "bitcoin_v2.head()"
   ]
  },
  {
   "cell_type": "code",
   "execution_count": 3,
   "metadata": {},
   "outputs": [],
   "source": [
    "bitcoin_v2= bitcoin_v2.drop('Unnamed: 0', axis=1)"
   ]
  },
  {
   "cell_type": "code",
   "execution_count": 4,
   "metadata": {},
   "outputs": [
    {
     "data": {
      "text/html": [
       "<div>\n",
       "<style scoped>\n",
       "    .dataframe tbody tr th:only-of-type {\n",
       "        vertical-align: middle;\n",
       "    }\n",
       "\n",
       "    .dataframe tbody tr th {\n",
       "        vertical-align: top;\n",
       "    }\n",
       "\n",
       "    .dataframe thead th {\n",
       "        text-align: right;\n",
       "    }\n",
       "</style>\n",
       "<table border=\"1\" class=\"dataframe\">\n",
       "  <thead>\n",
       "    <tr style=\"text-align: right;\">\n",
       "      <th></th>\n",
       "      <th>date</th>\n",
       "      <th>confirmation_time</th>\n",
       "      <th>difficulty</th>\n",
       "      <th>hash_rate</th>\n",
       "      <th>market_cap</th>\n",
       "      <th>price_usd</th>\n",
       "      <th>total_block_size</th>\n",
       "      <th>total_miner_revenue</th>\n",
       "      <th>total_supply</th>\n",
       "      <th>total_trx_fees</th>\n",
       "      <th>trade_volume</th>\n",
       "      <th>transactions</th>\n",
       "      <th>trx_cost_percent</th>\n",
       "      <th>trx_per_block</th>\n",
       "      <th>trx_volume</th>\n",
       "      <th>unique_addresses</th>\n",
       "      <th>daily_return</th>\n",
       "    </tr>\n",
       "  </thead>\n",
       "  <tbody>\n",
       "    <tr>\n",
       "      <th>0</th>\n",
       "      <td>2015-01-01</td>\n",
       "      <td>7.150000</td>\n",
       "      <td>4.064096e+10</td>\n",
       "      <td>335365.2901</td>\n",
       "      <td>4.317111e+09</td>\n",
       "      <td>315.70</td>\n",
       "      <td>27835.0</td>\n",
       "      <td>1312680.60</td>\n",
       "      <td>13674725.0</td>\n",
       "      <td>8.003076</td>\n",
       "      <td>5.553875e+06</td>\n",
       "      <td>58963</td>\n",
       "      <td>5.244721</td>\n",
       "      <td>555.0</td>\n",
       "      <td>79280.0</td>\n",
       "      <td>116012</td>\n",
       "      <td>0</td>\n",
       "    </tr>\n",
       "    <tr>\n",
       "      <th>1</th>\n",
       "      <td>2015-01-02</td>\n",
       "      <td>6.933333</td>\n",
       "      <td>4.064096e+10</td>\n",
       "      <td>323243.6531</td>\n",
       "      <td>4.324529e+09</td>\n",
       "      <td>316.15</td>\n",
       "      <td>27875.0</td>\n",
       "      <td>1267761.50</td>\n",
       "      <td>13678725.0</td>\n",
       "      <td>10.727695</td>\n",
       "      <td>6.440896e+06</td>\n",
       "      <td>72234</td>\n",
       "      <td>4.477312</td>\n",
       "      <td>627.0</td>\n",
       "      <td>89563.0</td>\n",
       "      <td>168563</td>\n",
       "      <td>0</td>\n",
       "    </tr>\n",
       "    <tr>\n",
       "      <th>2</th>\n",
       "      <td>2015-01-03</td>\n",
       "      <td>6.433333</td>\n",
       "      <td>4.064096e+10</td>\n",
       "      <td>331324.7444</td>\n",
       "      <td>4.136728e+09</td>\n",
       "      <td>302.33</td>\n",
       "      <td>27922.0</td>\n",
       "      <td>1242878.63</td>\n",
       "      <td>13682825.0</td>\n",
       "      <td>11.906088</td>\n",
       "      <td>2.938312e+07</td>\n",
       "      <td>82832</td>\n",
       "      <td>2.277049</td>\n",
       "      <td>734.0</td>\n",
       "      <td>180541.0</td>\n",
       "      <td>207571</td>\n",
       "      <td>0</td>\n",
       "    </tr>\n",
       "    <tr>\n",
       "      <th>3</th>\n",
       "      <td>2015-01-04</td>\n",
       "      <td>8.033333</td>\n",
       "      <td>4.064096e+10</td>\n",
       "      <td>335365.2901</td>\n",
       "      <td>3.708212e+09</td>\n",
       "      <td>270.93</td>\n",
       "      <td>27971.0</td>\n",
       "      <td>1129778.10</td>\n",
       "      <td>13686975.0</td>\n",
       "      <td>20.288107</td>\n",
       "      <td>5.310479e+07</td>\n",
       "      <td>85570</td>\n",
       "      <td>1.376066</td>\n",
       "      <td>692.0</td>\n",
       "      <td>303038.0</td>\n",
       "      <td>206228</td>\n",
       "      <td>0</td>\n",
       "    </tr>\n",
       "    <tr>\n",
       "      <th>4</th>\n",
       "      <td>2015-01-05</td>\n",
       "      <td>6.816667</td>\n",
       "      <td>4.064096e+10</td>\n",
       "      <td>339405.8358</td>\n",
       "      <td>3.789717e+09</td>\n",
       "      <td>276.80</td>\n",
       "      <td>28024.0</td>\n",
       "      <td>1166988.80</td>\n",
       "      <td>13691175.0</td>\n",
       "      <td>16.967084</td>\n",
       "      <td>3.132672e+07</td>\n",
       "      <td>93753</td>\n",
       "      <td>1.863192</td>\n",
       "      <td>751.0</td>\n",
       "      <td>226278.0</td>\n",
       "      <td>193982</td>\n",
       "      <td>1</td>\n",
       "    </tr>\n",
       "  </tbody>\n",
       "</table>\n",
       "</div>"
      ],
      "text/plain": [
       "         date  confirmation_time    difficulty    hash_rate    market_cap  \\\n",
       "0  2015-01-01           7.150000  4.064096e+10  335365.2901  4.317111e+09   \n",
       "1  2015-01-02           6.933333  4.064096e+10  323243.6531  4.324529e+09   \n",
       "2  2015-01-03           6.433333  4.064096e+10  331324.7444  4.136728e+09   \n",
       "3  2015-01-04           8.033333  4.064096e+10  335365.2901  3.708212e+09   \n",
       "4  2015-01-05           6.816667  4.064096e+10  339405.8358  3.789717e+09   \n",
       "\n",
       "   price_usd  total_block_size  total_miner_revenue  total_supply  \\\n",
       "0     315.70           27835.0           1312680.60    13674725.0   \n",
       "1     316.15           27875.0           1267761.50    13678725.0   \n",
       "2     302.33           27922.0           1242878.63    13682825.0   \n",
       "3     270.93           27971.0           1129778.10    13686975.0   \n",
       "4     276.80           28024.0           1166988.80    13691175.0   \n",
       "\n",
       "   total_trx_fees  trade_volume  transactions  trx_cost_percent  \\\n",
       "0        8.003076  5.553875e+06         58963          5.244721   \n",
       "1       10.727695  6.440896e+06         72234          4.477312   \n",
       "2       11.906088  2.938312e+07         82832          2.277049   \n",
       "3       20.288107  5.310479e+07         85570          1.376066   \n",
       "4       16.967084  3.132672e+07         93753          1.863192   \n",
       "\n",
       "   trx_per_block  trx_volume  unique_addresses  daily_return  \n",
       "0          555.0     79280.0            116012             0  \n",
       "1          627.0     89563.0            168563             0  \n",
       "2          734.0    180541.0            207571             0  \n",
       "3          692.0    303038.0            206228             0  \n",
       "4          751.0    226278.0            193982             1  "
      ]
     },
     "execution_count": 4,
     "metadata": {},
     "output_type": "execute_result"
    }
   ],
   "source": [
    "bitcoin_v2.head()"
   ]
  },
  {
   "cell_type": "code",
   "execution_count": 8,
   "metadata": {},
   "outputs": [
    {
     "name": "stdout",
     "output_type": "stream",
     "text": [
      "<class 'pandas.core.frame.DataFrame'>\n",
      "RangeIndex: 1093 entries, 0 to 1092\n",
      "Data columns (total 17 columns):\n",
      " #   Column               Non-Null Count  Dtype         \n",
      "---  ------               --------------  -----         \n",
      " 0   date                 1093 non-null   datetime64[ns]\n",
      " 1   confirmation_time    1093 non-null   float64       \n",
      " 2   difficulty           1093 non-null   float64       \n",
      " 3   hash_rate            1093 non-null   float64       \n",
      " 4   market_cap           1093 non-null   float64       \n",
      " 5   price_usd            1093 non-null   float64       \n",
      " 6   total_block_size     1093 non-null   float64       \n",
      " 7   total_miner_revenue  1093 non-null   float64       \n",
      " 8   total_supply         1093 non-null   float64       \n",
      " 9   total_trx_fees       1093 non-null   float64       \n",
      " 10  trade_volume         1093 non-null   float64       \n",
      " 11  transactions         1093 non-null   int64         \n",
      " 12  trx_cost_percent     1093 non-null   float64       \n",
      " 13  trx_per_block        1093 non-null   float64       \n",
      " 14  trx_volume           1093 non-null   float64       \n",
      " 15  unique_addresses     1093 non-null   int64         \n",
      " 16  daily_return         1093 non-null   int64         \n",
      "dtypes: datetime64[ns](1), float64(13), int64(3)\n",
      "memory usage: 145.3 KB\n"
     ]
    }
   ],
   "source": [
    "bitcoin_v2.info()"
   ]
  },
  {
   "cell_type": "code",
   "execution_count": 7,
   "metadata": {},
   "outputs": [],
   "source": [
    "bitcoin_v2['date'] = bitcoin_v2['date'].astype('datetime64[ns]')"
   ]
  },
  {
   "cell_type": "markdown",
   "metadata": {},
   "source": [
    "# Skewness"
   ]
  },
  {
   "cell_type": "code",
   "execution_count": 10,
   "metadata": {},
   "outputs": [
    {
     "data": {
      "text/plain": [
       "confirmation_time      1.786772\n",
       "difficulty             1.708631\n",
       "hash_rate              1.815879\n",
       "market_cap             3.618842\n",
       "price_usd              3.609953\n",
       "total_block_size       0.310101\n",
       "total_miner_revenue    4.326714\n",
       "total_supply          -0.406200\n",
       "total_trx_fees         2.888152\n",
       "trade_volume           6.266271\n",
       "transactions           0.100628\n",
       "trx_cost_percent       1.670339\n",
       "trx_per_block         -0.023288\n",
       "trx_volume             1.102679\n",
       "unique_addresses       0.709612\n",
       "daily_return           1.287334\n",
       "dtype: float64"
      ]
     },
     "execution_count": 10,
     "metadata": {},
     "output_type": "execute_result"
    }
   ],
   "source": [
    "bitcoin_v2.skew(axis = 0, skipna = True)"
   ]
  },
  {
   "cell_type": "markdown",
   "metadata": {},
   "source": [
    "# Linearity"
   ]
  },
  {
   "cell_type": "code",
   "execution_count": 104,
   "metadata": {},
   "outputs": [
    {
     "data": {
      "image/png": "[encoded data removed]",
      "text/plain": [
       "<Figure size 360x360 with 1 Axes>"
      ]
     },
     "metadata": {},
     "output_type": "display_data"
    }
   ],
   "source": [
    "fig, ax = plt.subplots(figsize=(5, 5))\n",
    "ax.scatter(x = bitcoin_v2['confirmation_time'], y = bitcoin_v2['price_usd'])\n",
    "plt.xlabel(\"confirmation_time\")\n",
    "plt.ylabel(\"price_usd\")\n",
    "\n",
    "plt.show()"
   ]
  },
  {
   "cell_type": "code",
   "execution_count": 105,
   "metadata": {},
   "outputs": [
    {
     "data": {
      "image/png": "[encoded data removed]",
      "text/plain": [
       "<Figure size 360x360 with 1 Axes>"
      ]
     },
     "metadata": {},
     "output_type": "display_data"
    }
   ],
   "source": [
    "fig, ax = plt.subplots(figsize=(5, 5))\n",
    "ax.scatter(x = bitcoin_v2['difficulty'], y = bitcoin_v2['price_usd'])\n",
    "plt.xlabel(\"difficulty\")\n",
    "plt.ylabel(\"price_usd\")\n",
    "\n",
    "plt.show()"
   ]
  },
  {
   "cell_type": "code",
   "execution_count": 106,
   "metadata": {},
   "outputs": [
    {
     "data": {
      "image/png": "[encoded data removed]",
      "text/plain": [
       "<Figure size 360x360 with 1 Axes>"
      ]
     },
     "metadata": {},
     "output_type": "display_data"
    }
   ],
   "source": [
    "fig, ax = plt.subplots(figsize=(5, 5))\n",
    "ax.scatter(x = bitcoin_v2[\"market_cap\"], y = bitcoin_v2['price_usd'])\n",
    "plt.xlabel(\"market_cap\")\n",
    "plt.ylabel(\"price_usd\")\n",
    "\n",
    "plt.show()"
   ]
  },
  {
   "cell_type": "code",
   "execution_count": 107,
   "metadata": {},
   "outputs": [
    {
     "data": {
      "image/png": "[encoded data removed]",
      "text/plain": [
       "<Figure size 360x360 with 1 Axes>"
      ]
     },
     "metadata": {},
     "output_type": "display_data"
    }
   ],
   "source": [
    "fig, ax = plt.subplots(figsize=(5, 5))\n",
    "ax.scatter(x = bitcoin_v2['total_block_size'], y = bitcoin_v2['price_usd'])\n",
    "plt.xlabel(\"total_block_size\")\n",
    "plt.ylabel(\"price_usd\")\n",
    "\n",
    "plt.show()"
   ]
  },
  {
   "cell_type": "markdown",
   "metadata": {},
   "source": [
    "# Fixing skewness"
   ]
  },
  {
   "cell_type": "markdown",
   "metadata": {},
   "source": [
    "# Printing column names"
   ]
  },
  {
   "cell_type": "code",
   "execution_count": 18,
   "metadata": {},
   "outputs": [],
   "source": [
    "Bit = list(bitcoin_v2)"
   ]
  },
  {
   "cell_type": "code",
   "execution_count": 19,
   "metadata": {},
   "outputs": [
    {
     "name": "stdout",
     "output_type": "stream",
     "text": [
      "['date', 'confirmation_time', 'difficulty', 'hash_rate', 'market_cap', 'price_usd', 'total_block_size', 'total_miner_revenue', 'total_supply', 'total_trx_fees', 'trade_volume', 'transactions', 'trx_cost_percent', 'trx_per_block', 'trx_volume', 'unique_addresses', 'daily_return']\n"
     ]
    }
   ],
   "source": [
    "print(Bit)"
   ]
  },
  {
   "cell_type": "markdown",
   "metadata": {},
   "source": [
    "# Fixing Outliers"
   ]
  },
  {
   "cell_type": "markdown",
   "metadata": {},
   "source": [
    "# Transactions"
   ]
  },
  {
   "cell_type": "code",
   "execution_count": 131,
   "metadata": {},
   "outputs": [
    {
     "data": {
      "text/plain": [
       "<AxesSubplot:xlabel='transactions'>"
      ]
     },
     "execution_count": 131,
     "metadata": {},
     "output_type": "execute_result"
    },
    {
     "data": {
      "image/png": "[encoded data removed]",
      "text/plain": [
       "<Figure size 432x288 with 1 Axes>"
      ]
     },
     "metadata": {},
     "output_type": "display_data"
    }
   ],
   "source": [
    "import seaborn as sns\n",
    "sns.boxplot(bitcoin_v2['transactions'])"
   ]
  },
  {
   "cell_type": "code",
   "execution_count": 132,
   "metadata": {},
   "outputs": [
    {
     "name": "stdout",
     "output_type": "stream",
     "text": [
      "(array([1075]),)\n"
     ]
    }
   ],
   "source": [
    "print(np.where(bitcoin_v2['transactions']> 450000)) #printing index of outlier"
   ]
  },
  {
   "cell_type": "markdown",
   "metadata": {},
   "source": [
    "# Z-score"
   ]
  },
  {
   "cell_type": "code",
   "execution_count": 133,
   "metadata": {},
   "outputs": [
    {
     "name": "stdout",
     "output_type": "stream",
     "text": [
      "[1.98439443 1.81263383 1.67546868 ... 1.83185907 1.70997907 1.01127546]\n"
     ]
    }
   ],
   "source": [
    "from scipy import stats\n",
    "import numpy as np\n",
    " \n",
    "z = np.abs(stats.zscore(bitcoin_v2['transactions']))\n",
    "print(z)"
   ]
  },
  {
   "cell_type": "code",
   "execution_count": 134,
   "metadata": {},
   "outputs": [
    {
     "data": {
      "text/plain": [
       "(array([1075]),)"
      ]
     },
     "execution_count": 134,
     "metadata": {},
     "output_type": "execute_result"
    }
   ],
   "source": [
    "#printing index of outliers\n",
    "outliers = np.where(z > 3)\n",
    "outliers"
   ]
  },
  {
   "cell_type": "code",
   "execution_count": 124,
   "metadata": {},
   "outputs": [
    {
     "data": {
      "text/plain": [
       "490644"
      ]
     },
     "execution_count": 124,
     "metadata": {},
     "output_type": "execute_result"
    }
   ],
   "source": [
    "bitcoin_v2['transactions'][1075] #printing the actual value"
   ]
  },
  {
   "cell_type": "code",
   "execution_count": null,
   "metadata": {},
   "outputs": [],
   "source": [
    "IQR"
   ]
  },
  {
   "cell_type": "code",
   "execution_count": 136,
   "metadata": {},
   "outputs": [
    {
     "data": {
      "text/plain": [
       "128829.0"
      ]
     },
     "execution_count": 136,
     "metadata": {},
     "output_type": "execute_result"
    }
   ],
   "source": [
    "Q1 = np.percentile(bitcoin_v2['transactions'], 25,\n",
    "                   interpolation = 'midpoint')\n",
    " \n",
    "Q3 = np.percentile(bitcoin_v2['transactions'], 75,\n",
    "                   interpolation = 'midpoint')\n",
    "IQR = Q3 - Q1\n",
    "IQR"
   ]
  },
  {
   "cell_type": "code",
   "execution_count": 140,
   "metadata": {
    "scrolled": true
   },
   "outputs": [
    {
     "name": "stdout",
     "output_type": "stream",
     "text": [
      "Upper bound: 0       False\n",
      "1       False\n",
      "2       False\n",
      "3       False\n",
      "4       False\n",
      "        ...  \n",
      "1088    False\n",
      "1089    False\n",
      "1090    False\n",
      "1091    False\n",
      "1092    False\n",
      "Name: transactions, Length: 1093, dtype: bool\n",
      "(array([1075]),)\n",
      "Lower bound: 0       False\n",
      "1       False\n",
      "2       False\n",
      "3       False\n",
      "4       False\n",
      "        ...  \n",
      "1088    False\n",
      "1089    False\n",
      "1090    False\n",
      "1091    False\n",
      "1092    False\n",
      "Name: transactions, Length: 1093, dtype: bool\n",
      "(array([], dtype=int64),)\n"
     ]
    }
   ],
   "source": [
    "upper = bitcoin_v2['transactions'] >= (Q3+1.5*IQR)\n",
    " \n",
    "print(\"Upper bound:\",upper)\n",
    "print(np.where(upper))\n",
    " \n",
    "# Below Lower bound\n",
    "lower = bitcoin_v2['transactions'] <= (Q1-1.5*IQR)\n",
    "print(\"Lower bound:\", lower)\n",
    "print(np.where(lower))"
   ]
  },
  {
   "cell_type": "code",
   "execution_count": 142,
   "metadata": {},
   "outputs": [],
   "source": [
    "bitcoin_v2.drop([1075], inplace = True)"
   ]
  },
  {
   "cell_type": "code",
   "execution_count": 125,
   "metadata": {},
   "outputs": [],
   "source": [
    "#removing the outlier\n",
    "#bitcoin_v2['transactions']= bitcoin_v2['transactions'].drop(bitcoin_v2['transactions'].index[1075], inplace= True)"
   ]
  },
  {
   "cell_type": "code",
   "execution_count": 143,
   "metadata": {},
   "outputs": [
    {
     "name": "stdout",
     "output_type": "stream",
     "text": [
      "<class 'pandas.core.frame.DataFrame'>\n",
      "Int64Index: 1092 entries, 0 to 1092\n",
      "Data columns (total 17 columns):\n",
      " #   Column               Non-Null Count  Dtype  \n",
      "---  ------               --------------  -----  \n",
      " 0   date                 1092 non-null   object \n",
      " 1   confirmation_time    1092 non-null   float64\n",
      " 2   difficulty           1092 non-null   float64\n",
      " 3   hash_rate            1092 non-null   float64\n",
      " 4   market_cap           1092 non-null   float64\n",
      " 5   price_usd            1092 non-null   float64\n",
      " 6   total_block_size     1092 non-null   float64\n",
      " 7   total_miner_revenue  1092 non-null   float64\n",
      " 8   total_supply         1092 non-null   float64\n",
      " 9   total_trx_fees       1092 non-null   float64\n",
      " 10  trade_volume         1092 non-null   float64\n",
      " 11  transactions         1092 non-null   int64  \n",
      " 12  trx_cost_percent     1092 non-null   float64\n",
      " 13  trx_per_block        1092 non-null   float64\n",
      " 14  trx_volume           1092 non-null   float64\n",
      " 15  unique_addresses     1092 non-null   int64  \n",
      " 16  daily_return         1092 non-null   int64  \n",
      "dtypes: float64(13), int64(3), object(1)\n",
      "memory usage: 153.6+ KB\n"
     ]
    }
   ],
   "source": [
    "bitcoin_v2.info()"
   ]
  },
  {
   "cell_type": "markdown",
   "metadata": {},
   "source": [
    "# Feature importance"
   ]
  },
  {
   "cell_type": "code",
   "execution_count": null,
   "metadata": {},
   "outputs": [],
   "source": [
    "X = bitcoin_1.drop(['price_usd'], axis = 1)\n",
    "y = bitcoin_1.price_usd"
   ]
  },
  {
   "cell_type": "code",
   "execution_count": null,
   "metadata": {},
   "outputs": [],
   "source": [
    "from sklearn.model_selection import train_test_split\n",
    "\n",
    "X_train, X_test, \\\n",
    "y_train, y_test, = train_test_split(X,y, test_size = .2, random_state=45)"
   ]
  },
  {
   "cell_type": "code",
   "execution_count": null,
   "metadata": {},
   "outputs": [],
   "source": [
    "# Bar Plot feature importances\n",
    "\n",
    "from xgboost import XGBRegressor\n",
    "\n",
    "plt.rcParams['figure.figsize'] = 20,30\n",
    "plt.title('Feature Importances')\n",
    "\n",
    "model = XGBRegressor()\n",
    "model.fit(X_train, y_train)\n",
    "\n",
    "sns.barplot(y = X_train.columns, x = model.feature_importances_)\n",
    "plt.show()"
   ]
  },
  {
   "cell_type": "code",
   "execution_count": null,
   "metadata": {},
   "outputs": [],
   "source": [
    "feature_importances = pd.DataFrame({'Importance Coef' :model.feature_importances_ , 'Features' : X_train.columns})\n",
    "feature_importances.nlargest(122, 'Importance Coef') "
   ]
  },
  {
   "cell_type": "code",
   "execution_count": null,
   "metadata": {},
   "outputs": [],
   "source": []
  }
 ],
 "metadata": {
  "kernelspec": {
   "display_name": "Python 3",
   "language": "python",
   "name": "python3"
  },
  "language_info": {
   "codemirror_mode": {
    "name": "ipython",
    "version": 3
   },
   "file_extension": ".py",
   "mimetype": "text/x-python",
   "name": "python",
   "nbconvert_exporter": "python",
   "pygments_lexer": "ipython3",
   "version": "3.8.8"
  }
 },
 "nbformat": 4,
 "nbformat_minor": 4
}

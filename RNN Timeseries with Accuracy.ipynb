{
 "cells": [
  {
   "cell_type": "code",
   "execution_count": 284,
   "id": "e98659a4",
   "metadata": {},
   "outputs": [
    {
     "data": {
      "text/html": [
       "<div>\n",
       "<style scoped>\n",
       "    .dataframe tbody tr th:only-of-type {\n",
       "        vertical-align: middle;\n",
       "    }\n",
       "\n",
       "    .dataframe tbody tr th {\n",
       "        vertical-align: top;\n",
       "    }\n",
       "\n",
       "    .dataframe thead th {\n",
       "        text-align: right;\n",
       "    }\n",
       "</style>\n",
       "<table border=\"1\" class=\"dataframe\">\n",
       "  <thead>\n",
       "    <tr style=\"text-align: right;\">\n",
       "      <th></th>\n",
       "      <th>date</th>\n",
       "      <th>confirmation_time</th>\n",
       "      <th>difficulty</th>\n",
       "      <th>hash_rate</th>\n",
       "      <th>market_cap</th>\n",
       "      <th>price_usd</th>\n",
       "      <th>total_block_size</th>\n",
       "      <th>total_miner_revenue</th>\n",
       "      <th>total_supply</th>\n",
       "      <th>total_trx_fees</th>\n",
       "      <th>trade_volume</th>\n",
       "      <th>transactions</th>\n",
       "      <th>trx_cost_percent</th>\n",
       "      <th>trx_per_block</th>\n",
       "      <th>trx_volume</th>\n",
       "      <th>unique_addresses</th>\n",
       "      <th>daily_return</th>\n",
       "    </tr>\n",
       "  </thead>\n",
       "  <tbody>\n",
       "    <tr>\n",
       "      <th>0</th>\n",
       "      <td>2015-01-01</td>\n",
       "      <td>7.150000</td>\n",
       "      <td>4.064096e+10</td>\n",
       "      <td>3.353653e+05</td>\n",
       "      <td>4.317111e+09</td>\n",
       "      <td>315.70000</td>\n",
       "      <td>27835.0000</td>\n",
       "      <td>1312680.60</td>\n",
       "      <td>13674725.0</td>\n",
       "      <td>8.003076</td>\n",
       "      <td>5.553875e+06</td>\n",
       "      <td>58963</td>\n",
       "      <td>5.244721</td>\n",
       "      <td>555.000000</td>\n",
       "      <td>79280.0000</td>\n",
       "      <td>116012</td>\n",
       "      <td>0</td>\n",
       "    </tr>\n",
       "    <tr>\n",
       "      <th>1</th>\n",
       "      <td>2015-01-02</td>\n",
       "      <td>6.933333</td>\n",
       "      <td>4.064096e+10</td>\n",
       "      <td>3.232437e+05</td>\n",
       "      <td>4.324529e+09</td>\n",
       "      <td>316.15000</td>\n",
       "      <td>27875.0000</td>\n",
       "      <td>1267761.50</td>\n",
       "      <td>13678725.0</td>\n",
       "      <td>10.727695</td>\n",
       "      <td>6.440896e+06</td>\n",
       "      <td>72234</td>\n",
       "      <td>4.477312</td>\n",
       "      <td>627.000000</td>\n",
       "      <td>89563.0000</td>\n",
       "      <td>168563</td>\n",
       "      <td>0</td>\n",
       "    </tr>\n",
       "    <tr>\n",
       "      <th>2</th>\n",
       "      <td>2015-01-03</td>\n",
       "      <td>6.433333</td>\n",
       "      <td>4.064096e+10</td>\n",
       "      <td>3.313247e+05</td>\n",
       "      <td>4.136728e+09</td>\n",
       "      <td>302.33000</td>\n",
       "      <td>27922.0000</td>\n",
       "      <td>1242878.63</td>\n",
       "      <td>13682825.0</td>\n",
       "      <td>11.906088</td>\n",
       "      <td>2.938312e+07</td>\n",
       "      <td>82832</td>\n",
       "      <td>2.277049</td>\n",
       "      <td>734.000000</td>\n",
       "      <td>180541.0000</td>\n",
       "      <td>207571</td>\n",
       "      <td>0</td>\n",
       "    </tr>\n",
       "    <tr>\n",
       "      <th>3</th>\n",
       "      <td>2015-01-04</td>\n",
       "      <td>8.033333</td>\n",
       "      <td>4.064096e+10</td>\n",
       "      <td>3.353653e+05</td>\n",
       "      <td>3.708212e+09</td>\n",
       "      <td>270.93000</td>\n",
       "      <td>27971.0000</td>\n",
       "      <td>1129778.10</td>\n",
       "      <td>13686975.0</td>\n",
       "      <td>20.288107</td>\n",
       "      <td>5.310479e+07</td>\n",
       "      <td>85570</td>\n",
       "      <td>1.376066</td>\n",
       "      <td>692.000000</td>\n",
       "      <td>303038.0000</td>\n",
       "      <td>206228</td>\n",
       "      <td>0</td>\n",
       "    </tr>\n",
       "    <tr>\n",
       "      <th>4</th>\n",
       "      <td>2015-01-05</td>\n",
       "      <td>6.816667</td>\n",
       "      <td>4.064096e+10</td>\n",
       "      <td>3.394058e+05</td>\n",
       "      <td>3.789717e+09</td>\n",
       "      <td>276.80000</td>\n",
       "      <td>28024.0000</td>\n",
       "      <td>1166988.80</td>\n",
       "      <td>13691175.0</td>\n",
       "      <td>16.967084</td>\n",
       "      <td>3.132672e+07</td>\n",
       "      <td>93753</td>\n",
       "      <td>1.863192</td>\n",
       "      <td>751.000000</td>\n",
       "      <td>226278.0000</td>\n",
       "      <td>193982</td>\n",
       "      <td>1</td>\n",
       "    </tr>\n",
       "    <tr>\n",
       "      <th>...</th>\n",
       "      <td>...</td>\n",
       "      <td>...</td>\n",
       "      <td>...</td>\n",
       "      <td>...</td>\n",
       "      <td>...</td>\n",
       "      <td>...</td>\n",
       "      <td>...</td>\n",
       "      <td>...</td>\n",
       "      <td>...</td>\n",
       "      <td>...</td>\n",
       "      <td>...</td>\n",
       "      <td>...</td>\n",
       "      <td>...</td>\n",
       "      <td>...</td>\n",
       "      <td>...</td>\n",
       "      <td>...</td>\n",
       "      <td>...</td>\n",
       "    </tr>\n",
       "    <tr>\n",
       "      <th>1088</th>\n",
       "      <td>2017-12-27</td>\n",
       "      <td>8.133333</td>\n",
       "      <td>1.873110e+12</td>\n",
       "      <td>1.452556e+07</td>\n",
       "      <td>2.613810e+11</td>\n",
       "      <td>15589.32167</td>\n",
       "      <td>148457.8829</td>\n",
       "      <td>41529952.92</td>\n",
       "      <td>16766700.0</td>\n",
       "      <td>784.817123</td>\n",
       "      <td>1.619269e+09</td>\n",
       "      <td>307642</td>\n",
       "      <td>0.908155</td>\n",
       "      <td>1972.064103</td>\n",
       "      <td>301139.8528</td>\n",
       "      <td>749191</td>\n",
       "      <td>0</td>\n",
       "    </tr>\n",
       "    <tr>\n",
       "      <th>1089</th>\n",
       "      <td>2017-12-28</td>\n",
       "      <td>9.800000</td>\n",
       "      <td>1.873110e+12</td>\n",
       "      <td>1.387377e+07</td>\n",
       "      <td>2.411420e+11</td>\n",
       "      <td>14380.58167</td>\n",
       "      <td>148619.2801</td>\n",
       "      <td>37008426.92</td>\n",
       "      <td>16768562.5</td>\n",
       "      <td>785.833892</td>\n",
       "      <td>1.883494e+09</td>\n",
       "      <td>305053</td>\n",
       "      <td>1.052555</td>\n",
       "      <td>2047.335570</td>\n",
       "      <td>251609.9899</td>\n",
       "      <td>741488</td>\n",
       "      <td>0</td>\n",
       "    </tr>\n",
       "    <tr>\n",
       "      <th>1090</th>\n",
       "      <td>2017-12-29</td>\n",
       "      <td>8.066667</td>\n",
       "      <td>1.873110e+12</td>\n",
       "      <td>1.536358e+07</td>\n",
       "      <td>2.455240e+11</td>\n",
       "      <td>14640.14000</td>\n",
       "      <td>148792.1595</td>\n",
       "      <td>40531227.59</td>\n",
       "      <td>16770625.0</td>\n",
       "      <td>785.795050</td>\n",
       "      <td>1.274049e+09</td>\n",
       "      <td>353824</td>\n",
       "      <td>1.132235</td>\n",
       "      <td>2144.387879</td>\n",
       "      <td>251563.8573</td>\n",
       "      <td>838925</td>\n",
       "      <td>0</td>\n",
       "    </tr>\n",
       "    <tr>\n",
       "      <th>1091</th>\n",
       "      <td>2017-12-30</td>\n",
       "      <td>10.700000</td>\n",
       "      <td>1.873110e+12</td>\n",
       "      <td>1.368755e+07</td>\n",
       "      <td>2.216580e+11</td>\n",
       "      <td>13215.57400</td>\n",
       "      <td>148944.5812</td>\n",
       "      <td>33640243.62</td>\n",
       "      <td>16772462.5</td>\n",
       "      <td>778.571110</td>\n",
       "      <td>1.728482e+09</td>\n",
       "      <td>344407</td>\n",
       "      <td>0.876878</td>\n",
       "      <td>2342.904762</td>\n",
       "      <td>298339.3935</td>\n",
       "      <td>815099</td>\n",
       "      <td>0</td>\n",
       "    </tr>\n",
       "    <tr>\n",
       "      <th>1092</th>\n",
       "      <td>2017-12-31</td>\n",
       "      <td>9.133333</td>\n",
       "      <td>1.873110e+12</td>\n",
       "      <td>1.517735e+07</td>\n",
       "      <td>2.376200e+11</td>\n",
       "      <td>14165.57500</td>\n",
       "      <td>149113.6214</td>\n",
       "      <td>35435185.86</td>\n",
       "      <td>16774500.0</td>\n",
       "      <td>545.144526</td>\n",
       "      <td>1.142728e+09</td>\n",
       "      <td>290422</td>\n",
       "      <td>1.101150</td>\n",
       "      <td>1781.730061</td>\n",
       "      <td>234540.6526</td>\n",
       "      <td>678712</td>\n",
       "      <td>1</td>\n",
       "    </tr>\n",
       "  </tbody>\n",
       "</table>\n",
       "<p>1093 rows × 17 columns</p>\n",
       "</div>"
      ],
      "text/plain": [
       "            date  confirmation_time    difficulty     hash_rate    market_cap  \\\n",
       "0     2015-01-01           7.150000  4.064096e+10  3.353653e+05  4.317111e+09   \n",
       "1     2015-01-02           6.933333  4.064096e+10  3.232437e+05  4.324529e+09   \n",
       "2     2015-01-03           6.433333  4.064096e+10  3.313247e+05  4.136728e+09   \n",
       "3     2015-01-04           8.033333  4.064096e+10  3.353653e+05  3.708212e+09   \n",
       "4     2015-01-05           6.816667  4.064096e+10  3.394058e+05  3.789717e+09   \n",
       "...          ...                ...           ...           ...           ...   \n",
       "1088  2017-12-27           8.133333  1.873110e+12  1.452556e+07  2.613810e+11   \n",
       "1089  2017-12-28           9.800000  1.873110e+12  1.387377e+07  2.411420e+11   \n",
       "1090  2017-12-29           8.066667  1.873110e+12  1.536358e+07  2.455240e+11   \n",
       "1091  2017-12-30          10.700000  1.873110e+12  1.368755e+07  2.216580e+11   \n",
       "1092  2017-12-31           9.133333  1.873110e+12  1.517735e+07  2.376200e+11   \n",
       "\n",
       "        price_usd  total_block_size  total_miner_revenue  total_supply  \\\n",
       "0       315.70000        27835.0000           1312680.60    13674725.0   \n",
       "1       316.15000        27875.0000           1267761.50    13678725.0   \n",
       "2       302.33000        27922.0000           1242878.63    13682825.0   \n",
       "3       270.93000        27971.0000           1129778.10    13686975.0   \n",
       "4       276.80000        28024.0000           1166988.80    13691175.0   \n",
       "...           ...               ...                  ...           ...   \n",
       "1088  15589.32167       148457.8829          41529952.92    16766700.0   \n",
       "1089  14380.58167       148619.2801          37008426.92    16768562.5   \n",
       "1090  14640.14000       148792.1595          40531227.59    16770625.0   \n",
       "1091  13215.57400       148944.5812          33640243.62    16772462.5   \n",
       "1092  14165.57500       149113.6214          35435185.86    16774500.0   \n",
       "\n",
       "      total_trx_fees  trade_volume  transactions  trx_cost_percent  \\\n",
       "0           8.003076  5.553875e+06         58963          5.244721   \n",
       "1          10.727695  6.440896e+06         72234          4.477312   \n",
       "2          11.906088  2.938312e+07         82832          2.277049   \n",
       "3          20.288107  5.310479e+07         85570          1.376066   \n",
       "4          16.967084  3.132672e+07         93753          1.863192   \n",
       "...              ...           ...           ...               ...   \n",
       "1088      784.817123  1.619269e+09        307642          0.908155   \n",
       "1089      785.833892  1.883494e+09        305053          1.052555   \n",
       "1090      785.795050  1.274049e+09        353824          1.132235   \n",
       "1091      778.571110  1.728482e+09        344407          0.876878   \n",
       "1092      545.144526  1.142728e+09        290422          1.101150   \n",
       "\n",
       "      trx_per_block   trx_volume  unique_addresses  daily_return  \n",
       "0        555.000000   79280.0000            116012             0  \n",
       "1        627.000000   89563.0000            168563             0  \n",
       "2        734.000000  180541.0000            207571             0  \n",
       "3        692.000000  303038.0000            206228             0  \n",
       "4        751.000000  226278.0000            193982             1  \n",
       "...             ...          ...               ...           ...  \n",
       "1088    1972.064103  301139.8528            749191             0  \n",
       "1089    2047.335570  251609.9899            741488             0  \n",
       "1090    2144.387879  251563.8573            838925             0  \n",
       "1091    2342.904762  298339.3935            815099             0  \n",
       "1092    1781.730061  234540.6526            678712             1  \n",
       "\n",
       "[1093 rows x 17 columns]"
      ]
     },
     "execution_count": 284,
     "metadata": {},
     "output_type": "execute_result"
    }
   ],
   "source": [
    "import pandas\n",
    "import matplotlib.pyplot as plt\n",
    "dataset = pandas.read_csv(\"bitcoin_v2.csv\")\n",
    "dataset = dataset.drop(['Unnamed: 0'], axis = 1)\n",
    "dataset"
   ]
  },
  {
   "cell_type": "markdown",
   "id": "c44b6336",
   "metadata": {},
   "source": [
    "# Slicing out our data"
   ]
  },
  {
   "cell_type": "code",
   "execution_count": 285,
   "id": "ae4acc1f",
   "metadata": {},
   "outputs": [
    {
     "data": {
      "text/plain": [
       "(1093, 1)"
      ]
     },
     "execution_count": 285,
     "metadata": {},
     "output_type": "execute_result"
    }
   ],
   "source": [
    "dataset = dataset.iloc[:, 5:6].values\n",
    "dataset.shape"
   ]
  },
  {
   "cell_type": "code",
   "execution_count": 286,
   "id": "ce3ba4e1",
   "metadata": {},
   "outputs": [
    {
     "data": {
      "image/png": "[encoded data removed]",
      "text/plain": [
       "<Figure size 432x288 with 1 Axes>"
      ]
     },
     "metadata": {
      "needs_background": "light"
     },
     "output_type": "display_data"
    }
   ],
   "source": [
    "plt.plot(dataset)\n",
    "plt.show()"
   ]
  },
  {
   "cell_type": "code",
   "execution_count": 287,
   "id": "aa02c235",
   "metadata": {},
   "outputs": [],
   "source": [
    "import numpy\n",
    "import matplotlib.pyplot as plt\n",
    "import pandas\n",
    "import math\n",
    "from keras.models import Sequential\n",
    "from keras.layers import Dense\n",
    "from keras.layers import LSTM\n",
    "from sklearn.preprocessing import MinMaxScaler\n",
    "from sklearn.metrics import mean_squared_error"
   ]
  },
  {
   "cell_type": "markdown",
   "id": "25c8e93e",
   "metadata": {},
   "source": [
    "# Normalize"
   ]
  },
  {
   "cell_type": "code",
   "execution_count": 288,
   "id": "afc1cbe5",
   "metadata": {},
   "outputs": [],
   "source": [
    "scaler = MinMaxScaler(feature_range=(0, 1))\n",
    "dataset = scaler.fit_transform(dataset)"
   ]
  },
  {
   "cell_type": "markdown",
   "id": "7ebfb70a",
   "metadata": {},
   "source": [
    "# Split 80/20"
   ]
  },
  {
   "cell_type": "code",
   "execution_count": 289,
   "id": "8057437c",
   "metadata": {},
   "outputs": [],
   "source": [
    "train_size = int(len(dataset) * 0.80)\n",
    "test_size = len(dataset) - train_size\n",
    "train, test = dataset[0:train_size,:], dataset[train_size:len(dataset),:]"
   ]
  },
  {
   "cell_type": "code",
   "execution_count": 290,
   "id": "eb1520af",
   "metadata": {},
   "outputs": [
    {
     "data": {
      "text/plain": [
       "874"
      ]
     },
     "execution_count": 290,
     "metadata": {},
     "output_type": "execute_result"
    }
   ],
   "source": [
    "train_size"
   ]
  },
  {
   "cell_type": "code",
   "execution_count": 291,
   "id": "6ca4e784",
   "metadata": {},
   "outputs": [
    {
     "data": {
      "text/plain": [
       "219"
      ]
     },
     "execution_count": 291,
     "metadata": {},
     "output_type": "execute_result"
    }
   ],
   "source": [
    "test_size"
   ]
  },
  {
   "cell_type": "markdown",
   "id": "d769d71c",
   "metadata": {},
   "source": [
    "# Function to lookback"
   ]
  },
  {
   "cell_type": "code",
   "execution_count": 292,
   "id": "6ec88f10",
   "metadata": {},
   "outputs": [],
   "source": [
    "# convert an array of values into a dataset matrix\n",
    "def create_dataset(dataset, look_back=1):\n",
    "    dataX, dataY = [], []\n",
    "    for i in range(len(dataset)-look_back-1):\n",
    "        a = dataset[i:(i+look_back), 0]\n",
    "        dataX.append(a)\n",
    "        dataY.append(dataset[i + look_back, 0])\n",
    "    return numpy.array(dataX), numpy.array(dataY)"
   ]
  },
  {
   "cell_type": "markdown",
   "id": "edcdc656",
   "metadata": {},
   "source": [
    "# Reshape"
   ]
  },
  {
   "cell_type": "code",
   "execution_count": 293,
   "id": "4e456263",
   "metadata": {},
   "outputs": [],
   "source": [
    "look_back = 3\n",
    "trainX, trainY = create_dataset(train, look_back)\n",
    "testX, testY = create_dataset(test, look_back)"
   ]
  },
  {
   "cell_type": "markdown",
   "id": "1d9ccfc4",
   "metadata": {},
   "source": [
    "# reshape input to be [samples, time steps, features]"
   ]
  },
  {
   "cell_type": "code",
   "execution_count": 294,
   "id": "9aa3d12d",
   "metadata": {},
   "outputs": [],
   "source": [
    "trainX = numpy.reshape(trainX, (trainX.shape[0], trainX.shape[1], 1))\n",
    "testX = numpy.reshape(testX, (testX.shape[0], testX.shape[1], 1))"
   ]
  },
  {
   "cell_type": "code",
   "execution_count": 295,
   "id": "545a0244",
   "metadata": {},
   "outputs": [],
   "source": [
    "from keras.layers import Dropout"
   ]
  },
  {
   "cell_type": "markdown",
   "id": "dbe29e00",
   "metadata": {},
   "source": [
    "# Creating the model"
   ]
  },
  {
   "cell_type": "markdown",
   "id": "d680feb4",
   "metadata": {},
   "source": [
    "# Model type#1"
   ]
  },
  {
   "cell_type": "code",
   "execution_count": 275,
   "id": "39bd433e",
   "metadata": {},
   "outputs": [
    {
     "name": "stdout",
     "output_type": "stream",
     "text": [
      "Epoch 1/100\n",
      "870/870 - 6s - loss: 4.4581e-04 - 6s/epoch - 7ms/step\n",
      "Epoch 2/100\n",
      "870/870 - 3s - loss: 1.2024e-04 - 3s/epoch - 4ms/step\n",
      "Epoch 3/100\n",
      "870/870 - 3s - loss: 5.8188e-06 - 3s/epoch - 4ms/step\n",
      "Epoch 4/100\n",
      "870/870 - 3s - loss: 2.9458e-06 - 3s/epoch - 3ms/step\n",
      "Epoch 5/100\n",
      "870/870 - 3s - loss: 3.1423e-06 - 3s/epoch - 4ms/step\n",
      "Epoch 6/100\n",
      "870/870 - 3s - loss: 3.5989e-06 - 3s/epoch - 3ms/step\n",
      "Epoch 7/100\n",
      "870/870 - 3s - loss: 3.6946e-06 - 3s/epoch - 3ms/step\n",
      "Epoch 8/100\n",
      "870/870 - 3s - loss: 3.5128e-06 - 3s/epoch - 3ms/step\n",
      "Epoch 9/100\n",
      "870/870 - 3s - loss: 3.6452e-06 - 3s/epoch - 3ms/step\n",
      "Epoch 10/100\n",
      "870/870 - 3s - loss: 3.6182e-06 - 3s/epoch - 3ms/step\n",
      "Epoch 11/100\n",
      "870/870 - 3s - loss: 3.3886e-06 - 3s/epoch - 3ms/step\n",
      "Epoch 12/100\n",
      "870/870 - 3s - loss: 3.6946e-06 - 3s/epoch - 3ms/step\n",
      "Epoch 13/100\n",
      "870/870 - 3s - loss: 3.2169e-06 - 3s/epoch - 4ms/step\n",
      "Epoch 14/100\n",
      "870/870 - 3s - loss: 3.5616e-06 - 3s/epoch - 3ms/step\n",
      "Epoch 15/100\n",
      "870/870 - 3s - loss: 3.2873e-06 - 3s/epoch - 3ms/step\n",
      "Epoch 16/100\n",
      "870/870 - 3s - loss: 3.1131e-06 - 3s/epoch - 3ms/step\n",
      "Epoch 17/100\n",
      "870/870 - 3s - loss: 3.4102e-06 - 3s/epoch - 3ms/step\n",
      "Epoch 18/100\n",
      "870/870 - 3s - loss: 3.4773e-06 - 3s/epoch - 4ms/step\n",
      "Epoch 19/100\n",
      "870/870 - 3s - loss: 3.0355e-06 - 3s/epoch - 3ms/step\n",
      "Epoch 20/100\n",
      "870/870 - 3s - loss: 3.3089e-06 - 3s/epoch - 4ms/step\n",
      "Epoch 21/100\n",
      "870/870 - 3s - loss: 3.3697e-06 - 3s/epoch - 3ms/step\n",
      "Epoch 22/100\n",
      "870/870 - 3s - loss: 2.8973e-06 - 3s/epoch - 3ms/step\n",
      "Epoch 23/100\n",
      "870/870 - 3s - loss: 3.2996e-06 - 3s/epoch - 3ms/step\n",
      "Epoch 24/100\n",
      "870/870 - 3s - loss: 3.2398e-06 - 3s/epoch - 3ms/step\n",
      "Epoch 25/100\n",
      "870/870 - 3s - loss: 2.6945e-06 - 3s/epoch - 3ms/step\n",
      "Epoch 26/100\n",
      "870/870 - 3s - loss: 2.8234e-06 - 3s/epoch - 3ms/step\n",
      "Epoch 27/100\n",
      "870/870 - 3s - loss: 3.3052e-06 - 3s/epoch - 3ms/step\n",
      "Epoch 28/100\n",
      "870/870 - 3s - loss: 2.2398e-06 - 3s/epoch - 4ms/step\n",
      "Epoch 29/100\n",
      "870/870 - 3s - loss: 2.5308e-06 - 3s/epoch - 3ms/step\n",
      "Epoch 30/100\n",
      "870/870 - 3s - loss: 2.4333e-06 - 3s/epoch - 3ms/step\n",
      "Epoch 31/100\n",
      "870/870 - 3s - loss: 2.5374e-06 - 3s/epoch - 3ms/step\n",
      "Epoch 32/100\n",
      "870/870 - 3s - loss: 2.5529e-06 - 3s/epoch - 3ms/step\n",
      "Epoch 33/100\n",
      "870/870 - 3s - loss: 2.6649e-06 - 3s/epoch - 3ms/step\n",
      "Epoch 34/100\n",
      "870/870 - 3s - loss: 2.4516e-06 - 3s/epoch - 3ms/step\n",
      "Epoch 35/100\n",
      "870/870 - 4s - loss: 2.7754e-06 - 4s/epoch - 4ms/step\n",
      "Epoch 36/100\n",
      "870/870 - 3s - loss: 2.5173e-06 - 3s/epoch - 3ms/step\n",
      "Epoch 37/100\n",
      "870/870 - 3s - loss: 2.3431e-06 - 3s/epoch - 3ms/step\n",
      "Epoch 38/100\n",
      "870/870 - 3s - loss: 2.7785e-06 - 3s/epoch - 3ms/step\n",
      "Epoch 39/100\n",
      "870/870 - 3s - loss: 2.6121e-06 - 3s/epoch - 4ms/step\n",
      "Epoch 40/100\n",
      "870/870 - 3s - loss: 2.3464e-06 - 3s/epoch - 4ms/step\n",
      "Epoch 41/100\n",
      "870/870 - 3s - loss: 2.5477e-06 - 3s/epoch - 3ms/step\n",
      "Epoch 42/100\n",
      "870/870 - 3s - loss: 2.5844e-06 - 3s/epoch - 3ms/step\n",
      "Epoch 43/100\n",
      "870/870 - 3s - loss: 2.7217e-06 - 3s/epoch - 3ms/step\n",
      "Epoch 44/100\n",
      "870/870 - 3s - loss: 2.2763e-06 - 3s/epoch - 3ms/step\n",
      "Epoch 45/100\n",
      "870/870 - 3s - loss: 2.4256e-06 - 3s/epoch - 3ms/step\n",
      "Epoch 46/100\n",
      "870/870 - 3s - loss: 2.1608e-06 - 3s/epoch - 3ms/step\n",
      "Epoch 47/100\n",
      "870/870 - 3s - loss: 2.4416e-06 - 3s/epoch - 4ms/step\n",
      "Epoch 48/100\n",
      "870/870 - 4s - loss: 2.5890e-06 - 4s/epoch - 4ms/step\n",
      "Epoch 49/100\n",
      "870/870 - 4s - loss: 2.5948e-06 - 4s/epoch - 4ms/step\n",
      "Epoch 50/100\n",
      "870/870 - 3s - loss: 2.1941e-06 - 3s/epoch - 4ms/step\n",
      "Epoch 51/100\n",
      "870/870 - 4s - loss: 2.4917e-06 - 4s/epoch - 4ms/step\n",
      "Epoch 52/100\n",
      "870/870 - 4s - loss: 2.4121e-06 - 4s/epoch - 5ms/step\n",
      "Epoch 53/100\n",
      "870/870 - 4s - loss: 2.0548e-06 - 4s/epoch - 4ms/step\n",
      "Epoch 54/100\n",
      "870/870 - 3s - loss: 2.6518e-06 - 3s/epoch - 4ms/step\n",
      "Epoch 55/100\n",
      "870/870 - 3s - loss: 2.3912e-06 - 3s/epoch - 4ms/step\n",
      "Epoch 56/100\n",
      "870/870 - 3s - loss: 2.1130e-06 - 3s/epoch - 4ms/step\n",
      "Epoch 57/100\n",
      "870/870 - 4s - loss: 2.3929e-06 - 4s/epoch - 5ms/step\n",
      "Epoch 58/100\n",
      "870/870 - 4s - loss: 2.5950e-06 - 4s/epoch - 4ms/step\n",
      "Epoch 59/100\n",
      "870/870 - 3s - loss: 2.5872e-06 - 3s/epoch - 4ms/step\n",
      "Epoch 60/100\n",
      "870/870 - 4s - loss: 2.0794e-06 - 4s/epoch - 4ms/step\n",
      "Epoch 61/100\n",
      "870/870 - 4s - loss: 2.6750e-06 - 4s/epoch - 5ms/step\n",
      "Epoch 62/100\n",
      "870/870 - 3s - loss: 2.2463e-06 - 3s/epoch - 3ms/step\n",
      "Epoch 63/100\n",
      "870/870 - 3s - loss: 2.5232e-06 - 3s/epoch - 3ms/step\n",
      "Epoch 64/100\n",
      "870/870 - 3s - loss: 2.4975e-06 - 3s/epoch - 4ms/step\n",
      "Epoch 65/100\n",
      "870/870 - 4s - loss: 2.1934e-06 - 4s/epoch - 5ms/step\n",
      "Epoch 66/100\n",
      "870/870 - 4s - loss: 2.3476e-06 - 4s/epoch - 4ms/step\n",
      "Epoch 67/100\n",
      "870/870 - 4s - loss: 2.1738e-06 - 4s/epoch - 4ms/step\n",
      "Epoch 68/100\n",
      "870/870 - 3s - loss: 2.2142e-06 - 3s/epoch - 4ms/step\n",
      "Epoch 69/100\n",
      "870/870 - 3s - loss: 2.5123e-06 - 3s/epoch - 3ms/step\n",
      "Epoch 70/100\n",
      "870/870 - 3s - loss: 2.4043e-06 - 3s/epoch - 3ms/step\n",
      "Epoch 71/100\n",
      "870/870 - 3s - loss: 2.2678e-06 - 3s/epoch - 4ms/step\n",
      "Epoch 72/100\n",
      "870/870 - 3s - loss: 2.4973e-06 - 3s/epoch - 4ms/step\n",
      "Epoch 73/100\n",
      "870/870 - 3s - loss: 2.2877e-06 - 3s/epoch - 3ms/step\n",
      "Epoch 74/100\n",
      "870/870 - 3s - loss: 1.9313e-06 - 3s/epoch - 4ms/step\n",
      "Epoch 75/100\n",
      "870/870 - 4s - loss: 2.3974e-06 - 4s/epoch - 4ms/step\n",
      "Epoch 76/100\n",
      "870/870 - 3s - loss: 2.4242e-06 - 3s/epoch - 4ms/step\n",
      "Epoch 77/100\n",
      "870/870 - 3s - loss: 2.5694e-06 - 3s/epoch - 3ms/step\n",
      "Epoch 78/100\n",
      "870/870 - 3s - loss: 2.1657e-06 - 3s/epoch - 3ms/step\n",
      "Epoch 79/100\n",
      "870/870 - 3s - loss: 2.0993e-06 - 3s/epoch - 4ms/step\n",
      "Epoch 80/100\n",
      "870/870 - 3s - loss: 2.0971e-06 - 3s/epoch - 3ms/step\n",
      "Epoch 81/100\n",
      "870/870 - 3s - loss: 2.2936e-06 - 3s/epoch - 3ms/step\n",
      "Epoch 82/100\n",
      "870/870 - 3s - loss: 2.0317e-06 - 3s/epoch - 3ms/step\n",
      "Epoch 83/100\n",
      "870/870 - 3s - loss: 2.0895e-06 - 3s/epoch - 3ms/step\n",
      "Epoch 84/100\n",
      "870/870 - 3s - loss: 2.2122e-06 - 3s/epoch - 3ms/step\n",
      "Epoch 85/100\n",
      "870/870 - 3s - loss: 2.2536e-06 - 3s/epoch - 4ms/step\n",
      "Epoch 86/100\n",
      "870/870 - 4s - loss: 2.4392e-06 - 4s/epoch - 4ms/step\n",
      "Epoch 87/100\n",
      "870/870 - 4s - loss: 2.0707e-06 - 4s/epoch - 5ms/step\n",
      "Epoch 88/100\n",
      "870/870 - 4s - loss: 2.3995e-06 - 4s/epoch - 4ms/step\n",
      "Epoch 89/100\n",
      "870/870 - 3s - loss: 2.2091e-06 - 3s/epoch - 3ms/step\n",
      "Epoch 90/100\n",
      "870/870 - 3s - loss: 2.3869e-06 - 3s/epoch - 3ms/step\n",
      "Epoch 91/100\n",
      "870/870 - 3s - loss: 1.9849e-06 - 3s/epoch - 3ms/step\n",
      "Epoch 92/100\n",
      "870/870 - 3s - loss: 2.1613e-06 - 3s/epoch - 4ms/step\n",
      "Epoch 93/100\n",
      "870/870 - 3s - loss: 2.0870e-06 - 3s/epoch - 4ms/step\n",
      "Epoch 94/100\n",
      "870/870 - 4s - loss: 2.1408e-06 - 4s/epoch - 4ms/step\n",
      "Epoch 95/100\n",
      "870/870 - 3s - loss: 2.2037e-06 - 3s/epoch - 4ms/step\n",
      "Epoch 96/100\n",
      "870/870 - 4s - loss: 2.0053e-06 - 4s/epoch - 4ms/step\n",
      "Epoch 97/100\n",
      "870/870 - 4s - loss: 2.1588e-06 - 4s/epoch - 4ms/step\n",
      "Epoch 98/100\n",
      "870/870 - 4s - loss: 2.2478e-06 - 4s/epoch - 5ms/step\n",
      "Epoch 99/100\n",
      "870/870 - 3s - loss: 2.0095e-06 - 3s/epoch - 4ms/step\n",
      "Epoch 100/100\n",
      "870/870 - 5s - loss: 2.3580e-06 - 5s/epoch - 5ms/step\n"
     ]
    },
    {
     "data": {
      "text/plain": [
       "<keras.callbacks.History at 0x7fd3b8ba0040>"
      ]
     },
     "execution_count": 275,
     "metadata": {},
     "output_type": "execute_result"
    }
   ],
   "source": [
    "model = Sequential()\n",
    "\n",
    "model.add(LSTM(4, input_shape=(look_back, 1)))\n",
    "\n",
    "model.add(Dense(1))\n",
    "\n",
    "model.compile(loss='mean_squared_error', optimizer='adam')\n",
    "\n",
    "model.fit(trainX, trainY, epochs=100, batch_size=1, verbose=2)"
   ]
  },
  {
   "cell_type": "markdown",
   "id": "3cf26abc",
   "metadata": {},
   "source": [
    "# Make Prediction"
   ]
  },
  {
   "cell_type": "code",
   "execution_count": 276,
   "id": "52c08584",
   "metadata": {},
   "outputs": [],
   "source": [
    "trainPredict = model.predict(trainX)\n",
    "testPredict = model.predict(testX)"
   ]
  },
  {
   "cell_type": "markdown",
   "id": "f05e7a65",
   "metadata": {},
   "source": [
    "# Invert Prediction"
   ]
  },
  {
   "cell_type": "code",
   "execution_count": 277,
   "id": "db96e74b",
   "metadata": {},
   "outputs": [],
   "source": [
    "trainPredict = scaler.inverse_transform(trainPredict)\n",
    "trainY = scaler.inverse_transform([trainY])"
   ]
  },
  {
   "cell_type": "code",
   "execution_count": 278,
   "id": "5a7a3990",
   "metadata": {},
   "outputs": [],
   "source": [
    "testPredict = scaler.inverse_transform(testPredict)\n",
    "testY = scaler.inverse_transform([testY])"
   ]
  },
  {
   "cell_type": "markdown",
   "id": "8713f9c3",
   "metadata": {},
   "source": [
    "# Root Mean Squared Error"
   ]
  },
  {
   "cell_type": "code",
   "execution_count": 279,
   "id": "0327fdc4",
   "metadata": {},
   "outputs": [
    {
     "name": "stdout",
     "output_type": "stream",
     "text": [
      "Train Score: 22.06 RMSE\n",
      "Test Score: 869.63 RMSE\n"
     ]
    }
   ],
   "source": [
    "trainScoreM1 = math.sqrt(mean_squared_error(trainY[0], trainPredict[:,0]))\n",
    "print('Train Score: %.2f RMSE' % (trainScoreM1))\n",
    "testScoreM1 = math.sqrt(mean_squared_error(testY[0], testPredict[:,0]))\n",
    "print('Test Score: %.2f RMSE' % (testScoreM1))"
   ]
  },
  {
   "cell_type": "markdown",
   "id": "5fdaf28b",
   "metadata": {},
   "source": [
    "# Plot"
   ]
  },
  {
   "cell_type": "code",
   "execution_count": 280,
   "id": "d651adf2",
   "metadata": {},
   "outputs": [],
   "source": [
    "trainPredictPlot = numpy.empty_like(dataset)\n",
    "trainPredictPlot[:, :] = numpy.nan\n",
    "trainPredictPlot[look_back:len(trainPredict)+look_back, :] = trainPredict"
   ]
  },
  {
   "cell_type": "markdown",
   "id": "1c285bcc",
   "metadata": {},
   "source": [
    "# Test prediction for plotting"
   ]
  },
  {
   "cell_type": "code",
   "execution_count": 281,
   "id": "6bd802b3",
   "metadata": {},
   "outputs": [],
   "source": [
    "testPredictPlot = numpy.empty_like(dataset)\n",
    "testPredictPlot[:, :] = numpy.nan\n",
    "testPredictPlot[len(trainPredict)+(look_back*2)+1:len(dataset)-1, :] = testPredict\n"
   ]
  },
  {
   "cell_type": "markdown",
   "id": "d00eadb5",
   "metadata": {},
   "source": [
    "# Compare baseline & Prediction"
   ]
  },
  {
   "cell_type": "code",
   "execution_count": 282,
   "id": "5dfeea48",
   "metadata": {},
   "outputs": [
    {
     "data": {
      "image/png": "[encoded data removed]",
      "text/plain": [
       "<Figure size 432x288 with 1 Axes>"
      ]
     },
     "metadata": {
      "needs_background": "light"
     },
     "output_type": "display_data"
    }
   ],
   "source": [
    "# plot baseline and predictions\n",
    "plt.plot(scaler.inverse_transform(dataset))\n",
    "plt.plot(trainPredictPlot, color= 'blue')\n",
    "plt.plot(testPredictPlot, color= 'red')\n",
    "plt.show()"
   ]
  },
  {
   "cell_type": "markdown",
   "id": "b5e7f767",
   "metadata": {},
   "source": [
    "## Model#2"
   ]
  },
  {
   "cell_type": "code",
   "execution_count": 296,
   "id": "8e96cbe0",
   "metadata": {},
   "outputs": [
    {
     "name": "stdout",
     "output_type": "stream",
     "text": [
      "Epoch 1/27\n",
      "43/43 - 6s - loss: 0.0563 - 6s/epoch - 132ms/step\n",
      "Epoch 2/27\n",
      "43/43 - 0s - loss: 0.0332 - 261ms/epoch - 6ms/step\n",
      "Epoch 3/27\n",
      "43/43 - 0s - loss: 0.0162 - 316ms/epoch - 7ms/step\n",
      "Epoch 4/27\n",
      "43/43 - 0s - loss: 0.0066 - 356ms/epoch - 8ms/step\n",
      "Epoch 5/27\n",
      "43/43 - 0s - loss: 0.0035 - 280ms/epoch - 7ms/step\n",
      "Epoch 6/27\n",
      "43/43 - 0s - loss: 0.0024 - 261ms/epoch - 6ms/step\n",
      "Epoch 7/27\n",
      "43/43 - 0s - loss: 0.0021 - 342ms/epoch - 8ms/step\n",
      "Epoch 8/27\n",
      "43/43 - 0s - loss: 0.0018 - 296ms/epoch - 7ms/step\n",
      "Epoch 9/27\n",
      "43/43 - 0s - loss: 0.0016 - 360ms/epoch - 8ms/step\n",
      "Epoch 10/27\n",
      "43/43 - 0s - loss: 0.0016 - 304ms/epoch - 7ms/step\n",
      "Epoch 11/27\n",
      "43/43 - 0s - loss: 0.0018 - 251ms/epoch - 6ms/step\n",
      "Epoch 12/27\n",
      "43/43 - 0s - loss: 0.0016 - 282ms/epoch - 7ms/step\n",
      "Epoch 13/27\n",
      "43/43 - 0s - loss: 0.0014 - 312ms/epoch - 7ms/step\n",
      "Epoch 14/27\n",
      "43/43 - 0s - loss: 0.0014 - 477ms/epoch - 11ms/step\n",
      "Epoch 15/27\n",
      "43/43 - 0s - loss: 0.0017 - 298ms/epoch - 7ms/step\n",
      "Epoch 16/27\n",
      "43/43 - 0s - loss: 0.0011 - 353ms/epoch - 8ms/step\n",
      "Epoch 17/27\n",
      "43/43 - 0s - loss: 0.0013 - 309ms/epoch - 7ms/step\n",
      "Epoch 18/27\n",
      "43/43 - 0s - loss: 9.5060e-04 - 275ms/epoch - 6ms/step\n",
      "Epoch 19/27\n",
      "43/43 - 0s - loss: 0.0011 - 384ms/epoch - 9ms/step\n",
      "Epoch 20/27\n",
      "43/43 - 0s - loss: 9.2949e-04 - 367ms/epoch - 9ms/step\n",
      "Epoch 21/27\n",
      "43/43 - 0s - loss: 0.0010 - 402ms/epoch - 9ms/step\n",
      "Epoch 22/27\n",
      "43/43 - 0s - loss: 8.6856e-04 - 271ms/epoch - 6ms/step\n",
      "Epoch 23/27\n",
      "43/43 - 0s - loss: 9.0763e-04 - 274ms/epoch - 6ms/step\n",
      "Epoch 24/27\n",
      "43/43 - 0s - loss: 0.0013 - 357ms/epoch - 8ms/step\n",
      "Epoch 25/27\n",
      "43/43 - 0s - loss: 0.0011 - 271ms/epoch - 6ms/step\n",
      "Epoch 26/27\n",
      "43/43 - 0s - loss: 8.3728e-04 - 322ms/epoch - 7ms/step\n",
      "Epoch 27/27\n",
      "43/43 - 0s - loss: 9.6849e-04 - 293ms/epoch - 7ms/step\n"
     ]
    },
    {
     "data": {
      "text/plain": [
       "<keras.callbacks.History at 0x7fd3c402e4c0>"
      ]
     },
     "execution_count": 296,
     "metadata": {},
     "output_type": "execute_result"
    }
   ],
   "source": [
    "model2 = Sequential()\n",
    "\n",
    "batch_size = 5\n",
    "\n",
    "#input layer\n",
    "model2.add(LSTM(50, batch_input_shape=(batch_size, look_back, 1), stateful=True, return_sequences=True))\n",
    "\n",
    "#hidden layer1\n",
    "model2.add(LSTM(30, batch_input_shape=(batch_size, look_back, 1), stateful=True))\n",
    "\n",
    "#output layer\n",
    "model2.add(Dense(1))\n",
    "\n",
    "#compile\n",
    "model2.compile(loss='mean_squared_error', optimizer='adam')\n",
    "\n",
    "#for i in range(100):\n",
    "model2.fit(testX, testY, epochs=27, batch_size=batch_size, verbose=2)\n",
    "    #model.reset_states()"
   ]
  },
  {
   "cell_type": "markdown",
   "id": "38509c08",
   "metadata": {},
   "source": [
    "# Prediction"
   ]
  },
  {
   "cell_type": "code",
   "execution_count": 297,
   "id": "3e769bfb",
   "metadata": {},
   "outputs": [],
   "source": [
    "trainPredict2 = model2.predict(trainX, batch_size=batch_size)\n",
    "#model.reset_states()\n",
    "testPredict2 = model2.predict(testX, batch_size=batch_size)"
   ]
  },
  {
   "cell_type": "markdown",
   "id": "ede880b7",
   "metadata": {},
   "source": [
    "# Invert Prediction"
   ]
  },
  {
   "cell_type": "code",
   "execution_count": 298,
   "id": "0aa0fb59",
   "metadata": {},
   "outputs": [],
   "source": [
    "trainPredict2 = scaler.inverse_transform(trainPredict2)\n",
    "trainY = scaler.inverse_transform([trainY])\n",
    "testPredict2 = scaler.inverse_transform(testPredict2)\n",
    "testY = scaler.inverse_transform([testY])"
   ]
  },
  {
   "cell_type": "markdown",
   "id": "e54de37b",
   "metadata": {},
   "source": [
    "# RMSE"
   ]
  },
  {
   "cell_type": "code",
   "execution_count": 299,
   "id": "4d62889b",
   "metadata": {},
   "outputs": [
    {
     "name": "stdout",
     "output_type": "stream",
     "text": [
      "Train Score: 577.96 RMSE\n",
      "Test Score: 597.29 RMSE\n"
     ]
    }
   ],
   "source": [
    "trainScoreM2 = math.sqrt(mean_squared_error(trainY[0], trainPredict2[:,0]))\n",
    "print('Train Score: %.2f RMSE' % (trainScoreM2))\n",
    "testScoreM2 = math.sqrt(mean_squared_error(testY[0], testPredict2[:,0]))\n",
    "print('Test Score: %.2f RMSE' % (testScoreM2))"
   ]
  },
  {
   "cell_type": "markdown",
   "id": "652c4cb6",
   "metadata": {},
   "source": [
    "# Plot"
   ]
  },
  {
   "cell_type": "code",
   "execution_count": 301,
   "id": "6b0b6742",
   "metadata": {},
   "outputs": [
    {
     "data": {
      "image/png": "[encoded data removed]",
      "text/plain": [
       "<Figure size 432x288 with 1 Axes>"
      ]
     },
     "metadata": {
      "needs_background": "light"
     },
     "output_type": "display_data"
    }
   ],
   "source": [
    "trainPredictPlot = numpy.empty_like(dataset)\n",
    "trainPredictPlot[:, :] = numpy.nan\n",
    "trainPredictPlot[look_back:len(trainPredict2)+look_back, :] = trainPredict2\n",
    "\n",
    "testPredictPlot = numpy.empty_like(dataset)\n",
    "testPredictPlot[:, :] = numpy.nan\n",
    "testPredictPlot[len(trainPredict2)+(look_back*2)+1:len(dataset)-1, :] = testPredict2\n",
    "\n",
    "# plot baseline and predictions\n",
    "plt.plot(scaler.inverse_transform(dataset))\n",
    "plt.plot(trainPredictPlot, color= 'blue')\n",
    "plt.plot(testPredictPlot, color= 'red')\n",
    "plt.show()"
   ]
  },
  {
   "cell_type": "code",
   "execution_count": 242,
   "id": "c645310b",
   "metadata": {},
   "outputs": [
    {
     "data": {
      "text/plain": [
       "(215, 3, 1)"
      ]
     },
     "execution_count": 242,
     "metadata": {},
     "output_type": "execute_result"
    }
   ],
   "source": [
    "testX.shape"
   ]
  },
  {
   "cell_type": "markdown",
   "id": "2bd39058",
   "metadata": {},
   "source": [
    "# Future Prediction"
   ]
  },
  {
   "cell_type": "code",
   "execution_count": null,
   "id": "1612fb6f",
   "metadata": {},
   "outputs": [],
   "source": []
  },
  {
   "cell_type": "markdown",
   "id": "56bcdafa",
   "metadata": {},
   "source": [
    "# Walk forward"
   ]
  },
  {
   "cell_type": "code",
   "execution_count": 243,
   "id": "ed6baf3d",
   "metadata": {},
   "outputs": [],
   "source": [
    "# make a one-step forecast\n",
    "def forecast_lstm(model, batch_size, X):\n",
    "    X = X.reshape(1, 1, len(X))\n",
    "    yhat = model.predict(X, batch_size = batch_size)\n",
    "    return yhat[0,0]"
   ]
  },
  {
   "cell_type": "code",
   "execution_count": 245,
   "id": "c9e38c90",
   "metadata": {},
   "outputs": [
    {
     "ename": "ValueError",
     "evalue": "in user code:\n\n    File \"/Users/Fatima/opt/anaconda3/lib/python3.8/site-packages/keras/engine/training.py\", line 1730, in predict_function  *\n        return step_function(self, iterator)\n    File \"/Users/Fatima/opt/anaconda3/lib/python3.8/site-packages/keras/engine/training.py\", line 1719, in step_function  **\n        outputs = model.distribute_strategy.run(run_step, args=(data,))\n    File \"/Users/Fatima/opt/anaconda3/lib/python3.8/site-packages/keras/engine/training.py\", line 1712, in run_step  **\n        outputs = model.predict_step(data)\n    File \"/Users/Fatima/opt/anaconda3/lib/python3.8/site-packages/keras/engine/training.py\", line 1680, in predict_step\n        return self(x, training=False)\n    File \"/Users/Fatima/opt/anaconda3/lib/python3.8/site-packages/keras/utils/traceback_utils.py\", line 67, in error_handler\n        raise e.with_traceback(filtered_tb) from None\n    File \"/Users/Fatima/opt/anaconda3/lib/python3.8/site-packages/keras/engine/input_spec.py\", line 264, in assert_input_compatibility\n        raise ValueError(f'Input {input_index} of layer \"{layer_name}\" is '\n\n    ValueError: Input 0 of layer \"sequential_16\" is incompatible with the layer: expected shape=(None, 3, 1), found shape=(None, 1, 2)\n",
     "output_type": "error",
     "traceback": [
      "\u001b[0;31m---------------------------------------------------------------------------\u001b[0m",
      "\u001b[0;31mValueError\u001b[0m                                Traceback (most recent call last)",
      "\u001b[0;32m<ipython-input-245-0c0c56ff2a13>\u001b[0m in \u001b[0;36m<module>\u001b[0;34m\u001b[0m\n\u001b[1;32m      5\u001b[0m     \u001b[0;31m# make one-step forecast\u001b[0m\u001b[0;34m\u001b[0m\u001b[0;34m\u001b[0m\u001b[0;34m\u001b[0m\u001b[0m\n\u001b[1;32m      6\u001b[0m     \u001b[0mX\u001b[0m\u001b[0;34m,\u001b[0m \u001b[0my\u001b[0m \u001b[0;34m=\u001b[0m \u001b[0mtestX\u001b[0m\u001b[0;34m[\u001b[0m\u001b[0mi\u001b[0m\u001b[0;34m,\u001b[0m \u001b[0;36m0\u001b[0m\u001b[0;34m:\u001b[0m\u001b[0;34m-\u001b[0m\u001b[0;36m1\u001b[0m\u001b[0;34m]\u001b[0m\u001b[0;34m,\u001b[0m \u001b[0mtestY\u001b[0m\u001b[0;34m[\u001b[0m\u001b[0mi\u001b[0m\u001b[0;34m,\u001b[0m \u001b[0;34m-\u001b[0m\u001b[0;36m1\u001b[0m\u001b[0;34m]\u001b[0m\u001b[0;34m\u001b[0m\u001b[0;34m\u001b[0m\u001b[0m\n\u001b[0;32m----> 7\u001b[0;31m     \u001b[0myhat\u001b[0m \u001b[0;34m=\u001b[0m \u001b[0mforecast_lstm\u001b[0m\u001b[0;34m(\u001b[0m\u001b[0mmodel\u001b[0m\u001b[0;34m,\u001b[0m \u001b[0;36m1\u001b[0m\u001b[0;34m,\u001b[0m \u001b[0mX\u001b[0m\u001b[0;34m)\u001b[0m\u001b[0;34m\u001b[0m\u001b[0;34m\u001b[0m\u001b[0m\n\u001b[0m\u001b[1;32m      8\u001b[0m \u001b[0;34m\u001b[0m\u001b[0m\n\u001b[1;32m      9\u001b[0m     \u001b[0;31m# invert scaling\u001b[0m\u001b[0;34m\u001b[0m\u001b[0;34m\u001b[0m\u001b[0;34m\u001b[0m\u001b[0m\n",
      "\u001b[0;32m<ipython-input-243-33bef1aa0e5b>\u001b[0m in \u001b[0;36mforecast_lstm\u001b[0;34m(model, batch_size, X)\u001b[0m\n\u001b[1;32m      2\u001b[0m \u001b[0;32mdef\u001b[0m \u001b[0mforecast_lstm\u001b[0m\u001b[0;34m(\u001b[0m\u001b[0mmodel\u001b[0m\u001b[0;34m,\u001b[0m \u001b[0mbatch_size\u001b[0m\u001b[0;34m,\u001b[0m \u001b[0mX\u001b[0m\u001b[0;34m)\u001b[0m\u001b[0;34m:\u001b[0m\u001b[0;34m\u001b[0m\u001b[0;34m\u001b[0m\u001b[0m\n\u001b[1;32m      3\u001b[0m     \u001b[0mX\u001b[0m \u001b[0;34m=\u001b[0m \u001b[0mX\u001b[0m\u001b[0;34m.\u001b[0m\u001b[0mreshape\u001b[0m\u001b[0;34m(\u001b[0m\u001b[0;36m1\u001b[0m\u001b[0;34m,\u001b[0m \u001b[0;36m1\u001b[0m\u001b[0;34m,\u001b[0m \u001b[0mlen\u001b[0m\u001b[0;34m(\u001b[0m\u001b[0mX\u001b[0m\u001b[0;34m)\u001b[0m\u001b[0;34m)\u001b[0m\u001b[0;34m\u001b[0m\u001b[0;34m\u001b[0m\u001b[0m\n\u001b[0;32m----> 4\u001b[0;31m     \u001b[0myhat\u001b[0m \u001b[0;34m=\u001b[0m \u001b[0mmodel\u001b[0m\u001b[0;34m.\u001b[0m\u001b[0mpredict\u001b[0m\u001b[0;34m(\u001b[0m\u001b[0mX\u001b[0m\u001b[0;34m,\u001b[0m \u001b[0mbatch_size\u001b[0m \u001b[0;34m=\u001b[0m \u001b[0mbatch_size\u001b[0m\u001b[0;34m)\u001b[0m\u001b[0;34m\u001b[0m\u001b[0;34m\u001b[0m\u001b[0m\n\u001b[0m\u001b[1;32m      5\u001b[0m     \u001b[0;32mreturn\u001b[0m \u001b[0myhat\u001b[0m\u001b[0;34m[\u001b[0m\u001b[0;36m0\u001b[0m\u001b[0;34m,\u001b[0m\u001b[0;36m0\u001b[0m\u001b[0;34m]\u001b[0m\u001b[0;34m\u001b[0m\u001b[0;34m\u001b[0m\u001b[0m\n",
      "\u001b[0;32m~/opt/anaconda3/lib/python3.8/site-packages/keras/utils/traceback_utils.py\u001b[0m in \u001b[0;36merror_handler\u001b[0;34m(*args, **kwargs)\u001b[0m\n\u001b[1;32m     65\u001b[0m     \u001b[0;32mexcept\u001b[0m \u001b[0mException\u001b[0m \u001b[0;32mas\u001b[0m \u001b[0me\u001b[0m\u001b[0;34m:\u001b[0m  \u001b[0;31m# pylint: disable=broad-except\u001b[0m\u001b[0;34m\u001b[0m\u001b[0;34m\u001b[0m\u001b[0m\n\u001b[1;32m     66\u001b[0m       \u001b[0mfiltered_tb\u001b[0m \u001b[0;34m=\u001b[0m \u001b[0m_process_traceback_frames\u001b[0m\u001b[0;34m(\u001b[0m\u001b[0me\u001b[0m\u001b[0;34m.\u001b[0m\u001b[0m__traceback__\u001b[0m\u001b[0;34m)\u001b[0m\u001b[0;34m\u001b[0m\u001b[0;34m\u001b[0m\u001b[0m\n\u001b[0;32m---> 67\u001b[0;31m       \u001b[0;32mraise\u001b[0m \u001b[0me\u001b[0m\u001b[0;34m.\u001b[0m\u001b[0mwith_traceback\u001b[0m\u001b[0;34m(\u001b[0m\u001b[0mfiltered_tb\u001b[0m\u001b[0;34m)\u001b[0m \u001b[0;32mfrom\u001b[0m \u001b[0;32mNone\u001b[0m\u001b[0;34m\u001b[0m\u001b[0;34m\u001b[0m\u001b[0m\n\u001b[0m\u001b[1;32m     68\u001b[0m     \u001b[0;32mfinally\u001b[0m\u001b[0;34m:\u001b[0m\u001b[0;34m\u001b[0m\u001b[0;34m\u001b[0m\u001b[0m\n\u001b[1;32m     69\u001b[0m       \u001b[0;32mdel\u001b[0m \u001b[0mfiltered_tb\u001b[0m\u001b[0;34m\u001b[0m\u001b[0;34m\u001b[0m\u001b[0m\n",
      "\u001b[0;32m~/opt/anaconda3/lib/python3.8/site-packages/tensorflow/python/framework/func_graph.py\u001b[0m in \u001b[0;36mautograph_handler\u001b[0;34m(*args, **kwargs)\u001b[0m\n\u001b[1;32m   1145\u001b[0m           \u001b[0;32mexcept\u001b[0m \u001b[0mException\u001b[0m \u001b[0;32mas\u001b[0m \u001b[0me\u001b[0m\u001b[0;34m:\u001b[0m  \u001b[0;31m# pylint:disable=broad-except\u001b[0m\u001b[0;34m\u001b[0m\u001b[0;34m\u001b[0m\u001b[0m\n\u001b[1;32m   1146\u001b[0m             \u001b[0;32mif\u001b[0m \u001b[0mhasattr\u001b[0m\u001b[0;34m(\u001b[0m\u001b[0me\u001b[0m\u001b[0;34m,\u001b[0m \u001b[0;34m\"ag_error_metadata\"\u001b[0m\u001b[0;34m)\u001b[0m\u001b[0;34m:\u001b[0m\u001b[0;34m\u001b[0m\u001b[0;34m\u001b[0m\u001b[0m\n\u001b[0;32m-> 1147\u001b[0;31m               \u001b[0;32mraise\u001b[0m \u001b[0me\u001b[0m\u001b[0;34m.\u001b[0m\u001b[0mag_error_metadata\u001b[0m\u001b[0;34m.\u001b[0m\u001b[0mto_exception\u001b[0m\u001b[0;34m(\u001b[0m\u001b[0me\u001b[0m\u001b[0;34m)\u001b[0m\u001b[0;34m\u001b[0m\u001b[0;34m\u001b[0m\u001b[0m\n\u001b[0m\u001b[1;32m   1148\u001b[0m             \u001b[0;32melse\u001b[0m\u001b[0;34m:\u001b[0m\u001b[0;34m\u001b[0m\u001b[0;34m\u001b[0m\u001b[0m\n\u001b[1;32m   1149\u001b[0m               \u001b[0;32mraise\u001b[0m\u001b[0;34m\u001b[0m\u001b[0;34m\u001b[0m\u001b[0m\n",
      "\u001b[0;31mValueError\u001b[0m: in user code:\n\n    File \"/Users/Fatima/opt/anaconda3/lib/python3.8/site-packages/keras/engine/training.py\", line 1730, in predict_function  *\n        return step_function(self, iterator)\n    File \"/Users/Fatima/opt/anaconda3/lib/python3.8/site-packages/keras/engine/training.py\", line 1719, in step_function  **\n        outputs = model.distribute_strategy.run(run_step, args=(data,))\n    File \"/Users/Fatima/opt/anaconda3/lib/python3.8/site-packages/keras/engine/training.py\", line 1712, in run_step  **\n        outputs = model.predict_step(data)\n    File \"/Users/Fatima/opt/anaconda3/lib/python3.8/site-packages/keras/engine/training.py\", line 1680, in predict_step\n        return self(x, training=False)\n    File \"/Users/Fatima/opt/anaconda3/lib/python3.8/site-packages/keras/utils/traceback_utils.py\", line 67, in error_handler\n        raise e.with_traceback(filtered_tb) from None\n    File \"/Users/Fatima/opt/anaconda3/lib/python3.8/site-packages/keras/engine/input_spec.py\", line 264, in assert_input_compatibility\n        raise ValueError(f'Input {input_index} of layer \"{layer_name}\" is '\n\n    ValueError: Input 0 of layer \"sequential_16\" is incompatible with the layer: expected shape=(None, 3, 1), found shape=(None, 1, 2)\n"
     ]
    }
   ],
   "source": [
    "# walk-forward validation on the test data\n",
    "predictions = list()\n",
    "for i in range(len(testX)):\n",
    "    \n",
    "    # make one-step forecast\n",
    "    X, y = testX[i, 0:-1], testY[i, -1]\n",
    "    yhat = forecast_lstm(model, 1, X)\n",
    "    \n",
    "    # invert scaling\n",
    "    yhat = invert_scale(scaler, X, yhat)\n",
    "    \n",
    "    # invert differencing\n",
    "    yhat = inverse_difference(raw_values, yhat, len(test_scaled)+1-i)\n",
    "    \n",
    "    # store forecast\n",
    "    predictions.append(yhat)\n",
    "    expected = raw_values[len(train) + i + 1]\n",
    "    print('Month=%d, Predicted=%f, Expected=%f' % (i+1, yhat, expected))"
   ]
  },
  {
   "cell_type": "code",
   "execution_count": null,
   "id": "ca5ad23b",
   "metadata": {},
   "outputs": [],
   "source": []
  },
  {
   "cell_type": "code",
   "execution_count": null,
   "id": "725b34da",
   "metadata": {},
   "outputs": [],
   "source": []
  },
  {
   "cell_type": "code",
   "execution_count": null,
   "id": "e9de90b3",
   "metadata": {},
   "outputs": [],
   "source": []
  },
  {
   "cell_type": "code",
   "execution_count": null,
   "id": "99646561",
   "metadata": {},
   "outputs": [],
   "source": []
  }
 ],
 "metadata": {
  "kernelspec": {
   "display_name": "Python 3",
   "language": "python",
   "name": "python3"
  },
  "language_info": {
   "codemirror_mode": {
    "name": "ipython",
    "version": 3
   },
   "file_extension": ".py",
   "mimetype": "text/x-python",
   "name": "python",
   "nbconvert_exporter": "python",
   "pygments_lexer": "ipython3",
   "version": "3.8.8"
  }
 },
 "nbformat": 4,
 "nbformat_minor": 5
}
